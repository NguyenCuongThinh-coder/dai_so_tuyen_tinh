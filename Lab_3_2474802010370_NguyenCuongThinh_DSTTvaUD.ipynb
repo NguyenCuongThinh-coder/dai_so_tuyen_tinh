{
  "nbformat": 4,
  "nbformat_minor": 0,
  "metadata": {
    "colab": {
      "provenance": []
    },
    "kernelspec": {
      "name": "python3",
      "display_name": "Python 3"
    },
    "language_info": {
      "name": "python"
    }
  },
  "cells": [
    {
      "cell_type": "code",
      "execution_count": 2,
      "metadata": {
        "id": "y2GWoskFdMj0",
        "colab": {
          "base_uri": "https://localhost:8080/",
          "height": 505
        },
        "outputId": "39f4b7d9-e468-4bbb-ad76-f7e4766e488f"
      },
      "outputs": [
        {
          "output_type": "stream",
          "name": "stdout",
          "text": [
            "a = [1 2 3]\n",
            "b = [[1.+9.j 0.+2.j 0.+3.j]\n",
            " [0.+4.j 0.+5.j 0.+6.j]]\n",
            "c = [[(0.5, 1.5, 10) (3.2, 1.1) (5.4, 7.8, 9.9)]]\n",
            "A =\n",
            " [[0.83120832 0.94572695]\n",
            " [0.74991253 0.30376779]]\n",
            "B =\n",
            " [[1.+9.j 0.+2.j 0.+3.j]\n",
            " [0.+4.j 0.+5.j 0.+6.j]]\n"
          ]
        },
        {
          "output_type": "error",
          "ename": "AttributeError",
          "evalue": "`np.mat` was removed in the NumPy 2.0 release. Use `np.asmatrix` instead.",
          "traceback": [
            "\u001b[0;31m---------------------------------------------------------------------------\u001b[0m",
            "\u001b[0;31mAttributeError\u001b[0m                            Traceback (most recent call last)",
            "\u001b[0;32m<ipython-input-2-1053433637>\u001b[0m in \u001b[0;36m<cell line: 0>\u001b[0;34m()\u001b[0m\n\u001b[1;32m     19\u001b[0m \u001b[0mprint\u001b[0m\u001b[0;34m(\u001b[0m\u001b[0;34m\"B =\\n\"\u001b[0m\u001b[0;34m,\u001b[0m \u001b[0mB\u001b[0m\u001b[0;34m)\u001b[0m\u001b[0;34m\u001b[0m\u001b[0;34m\u001b[0m\u001b[0m\n\u001b[1;32m     20\u001b[0m \u001b[0;34m\u001b[0m\u001b[0m\n\u001b[0;32m---> 21\u001b[0;31m \u001b[0mC\u001b[0m \u001b[0;34m=\u001b[0m \u001b[0mnp\u001b[0m\u001b[0;34m.\u001b[0m\u001b[0mmat\u001b[0m\u001b[0;34m(\u001b[0m\u001b[0mnp\u001b[0m\u001b[0;34m.\u001b[0m\u001b[0mrandom\u001b[0m\u001b[0;34m.\u001b[0m\u001b[0mrandom\u001b[0m\u001b[0;34m(\u001b[0m\u001b[0;34m(\u001b[0m\u001b[0;36m10\u001b[0m\u001b[0;34m,\u001b[0m \u001b[0;36m5\u001b[0m\u001b[0;34m)\u001b[0m\u001b[0;34m)\u001b[0m\u001b[0;34m)\u001b[0m\u001b[0;34m\u001b[0m\u001b[0;34m\u001b[0m\u001b[0m\n\u001b[0m\u001b[1;32m     22\u001b[0m \u001b[0mprint\u001b[0m\u001b[0;34m(\u001b[0m\u001b[0;34m\"C =\\n\"\u001b[0m\u001b[0;34m,\u001b[0m \u001b[0mC\u001b[0m\u001b[0;34m)\u001b[0m\u001b[0;34m\u001b[0m\u001b[0;34m\u001b[0m\u001b[0m\n\u001b[1;32m     23\u001b[0m \u001b[0;34m\u001b[0m\u001b[0m\n",
            "\u001b[0;32m/usr/local/lib/python3.11/dist-packages/numpy/__init__.py\u001b[0m in \u001b[0;36m__getattr__\u001b[0;34m(attr)\u001b[0m\n\u001b[1;32m    395\u001b[0m \u001b[0;34m\u001b[0m\u001b[0m\n\u001b[1;32m    396\u001b[0m         \u001b[0;32mif\u001b[0m \u001b[0mattr\u001b[0m \u001b[0;32min\u001b[0m \u001b[0m__expired_attributes__\u001b[0m\u001b[0;34m:\u001b[0m\u001b[0;34m\u001b[0m\u001b[0;34m\u001b[0m\u001b[0m\n\u001b[0;32m--> 397\u001b[0;31m             raise AttributeError(\n\u001b[0m\u001b[1;32m    398\u001b[0m                 \u001b[0;34mf\"`np.{attr}` was removed in the NumPy 2.0 release. \"\u001b[0m\u001b[0;34m\u001b[0m\u001b[0;34m\u001b[0m\u001b[0m\n\u001b[1;32m    399\u001b[0m                 \u001b[0;34mf\"{__expired_attributes__[attr]}\"\u001b[0m\u001b[0;34m\u001b[0m\u001b[0;34m\u001b[0m\u001b[0m\n",
            "\u001b[0;31mAttributeError\u001b[0m: `np.mat` was removed in the NumPy 2.0 release. Use `np.asmatrix` instead."
          ]
        }
      ],
      "source": [
        "#Bài 1.1\n",
        "from scipy import linalg\n",
        "import numpy as np\n",
        "\n",
        "a = np.array([1, 2, 3])\n",
        "print(\"a =\", a)\n",
        "\n",
        "b = np.array([(1+9j, 2j, 3j), (4j, 5j, 6j)])\n",
        "print(\"b =\", b)\n",
        "\n",
        "c = np.array([[(0.5, 1.5, 10), (3.2, 1.1), (5.4, 7.8, 9.9)]], dtype=object)\n",
        "print(\"c =\", c)\n",
        "\n",
        "# Khởi tạo ma trận\n",
        "A = np.matrix(np.random.random((2, 2)))\n",
        "print(\"A =\\n\", A)\n",
        "\n",
        "B = np.asmatrix(b)\n",
        "print(\"B =\\n\", B)\n",
        "\n",
        "C = np.mat(np.random.random((10, 5)))\n",
        "print(\"C =\\n\", C)\n",
        "\n",
        "D = np.mat([[4, 3], [2, 6]])\n",
        "print(\"D =\\n\", D)\n",
        "\n",
        "F = np.eye(3, k=1)\n",
        "print(\"F (k=1) =\\n\", F)\n",
        "\n",
        "F = np.eye(3, k=0)\n",
        "print(\"F (k=0) =\\n\", F)\n",
        "# Xem hạng ma trận\n",
        "print(\"Rank of C:\", np.linalg.matrix_rank(C))\n",
        "\n",
        "# Tính ma trận nghịch đảo\n",
        "print(\"Nghịch đảo của A:\\n\", A.I)\n",
        "\n",
        "# Định thức ma trận\n",
        "print(\"Định thức của A:\", linalg.det(A))\n",
        "\n",
        "# Chuyển vị ma trận\n",
        "print(\"A chuyển vị:\\n\", A.T)\n",
        "print(\"A chuyển vị liên hợp:\\n\", A.H)\n",
        "# Giả sử A là ma trận vuông và b là vector\n",
        "b = np.array([1, 2])\n",
        "print(\"Nghiệm của phương trình Ax = b:\\n\", linalg.solve(A, b))\n",
        "\n",
        "E = np.mat(a).T\n",
        "print(\"E =\\n\", E)\n",
        "\n",
        "# Giải phương trình xấp xỉ: Ax ≈ b\n",
        "print(\"Giải gần đúng Ax ≈ E:\\n\", linalg.lstsq(F, E)[0])\n",
        "\n",
        "# Cộng ma trận\n",
        "print(\"A + D =\\n\", np.add(A, D))\n",
        "\n",
        "# Trừ ma trận\n",
        "print(\"A - D =\\n\", np.subtract(A, D))\n",
        "\n",
        "# Chia ma trận\n",
        "#không có\n",
        "\n",
        "# Nhân ma trận\n",
        "print(\"A @ D =\\n\", A @ D)\n",
        "print(\"np.multiply(D, A) =\\n\", np.multiply(D, A))\n",
        "print(\"np.dot(A, D) =\\n\", np.dot(A, D))\n",
        "print(\"np.vdot(A, D) =\", np.vdot(A, D))\n",
        "\n",
        "# Hàm lũy thừa và logarit\n",
        "print(\"expm(A) =\\n\", linalg.expm(A))\n",
        "print(\"logm(A) =\\n\", linalg.logm(A))\n"
      ]
    },
    {
      "cell_type": "code",
      "source": [
        "# Bài 2.1\n",
        "import numpy as np\n",
        "P = np.array([\n",
        "    [6, 5, 2, 1],  # Cảnh\n",
        "    [3, 2, 3, 2],  # Nhật\n",
        "    [4, 3, 5, 1]   # Hiếu\n",
        "])\n",
        "Q = np.array([\n",
        "    [1.50, 1.00],\n",
        "    [2.00, 2.50],\n",
        "    [5.00, 4.50],\n",
        "    [16.0, 17.0]\n",
        "])\n",
        "R = np.dot(P, Q)\n",
        "\n",
        "print(\"Ma trận nhu cầu (P):\\n\", P)\n",
        "print(\"\\nMa trận giá (Q):\\n\", Q)\n",
        "print(\"\\nTổng chi phí (P x Q):\\n\", R)\n",
        "\n",
        "people = [\"Cảnh\", \"Nhật\", \"Hiếu\"]\n",
        "for i in range(len(R)):\n",
        "    print(f\"\\nTổng chi phí cho {people[i]}:\")\n",
        "    print(f\"  Tại Siêu thị 1: {R[i][0]:.2f} đồng\")\n",
        "    print(f\"  Tại Siêu thị 2: {R[i][1]:.2f} đồng\")\n",
        "\n",
        "print(\"\\n=> Gợi ý lựa chọn siêu thị rẻ nhất cho từng người:\")\n",
        "for i in range(len(R)):\n",
        "    cheaper = \"Siêu thị 1\" if R[i][0] < R[i][1] else \"Siêu thị 2\"\n",
        "    print(f\"  {people[i]} nên mua ở {cheaper}.\")\n"
      ],
      "metadata": {
        "colab": {
          "base_uri": "https://localhost:8080/"
        },
        "id": "FIeuBSistLQE",
        "outputId": "01a7720c-a3ce-45cf-9c03-4ee822a8f6b2"
      },
      "execution_count": 3,
      "outputs": [
        {
          "output_type": "stream",
          "name": "stdout",
          "text": [
            "Ma trận nhu cầu (P):\n",
            " [[6 5 2 1]\n",
            " [3 2 3 2]\n",
            " [4 3 5 1]]\n",
            "\n",
            "Ma trận giá (Q):\n",
            " [[ 1.5  1. ]\n",
            " [ 2.   2.5]\n",
            " [ 5.   4.5]\n",
            " [16.  17. ]]\n",
            "\n",
            "Tổng chi phí (P x Q):\n",
            " [[45.  44.5]\n",
            " [55.5 55.5]\n",
            " [53.  51. ]]\n",
            "\n",
            "Tổng chi phí cho Cảnh:\n",
            "  Tại Siêu thị 1: 45.00 đồng\n",
            "  Tại Siêu thị 2: 44.50 đồng\n",
            "\n",
            "Tổng chi phí cho Nhật:\n",
            "  Tại Siêu thị 1: 55.50 đồng\n",
            "  Tại Siêu thị 2: 55.50 đồng\n",
            "\n",
            "Tổng chi phí cho Hiếu:\n",
            "  Tại Siêu thị 1: 53.00 đồng\n",
            "  Tại Siêu thị 2: 51.00 đồng\n",
            "\n",
            "=> Gợi ý lựa chọn siêu thị rẻ nhất cho từng người:\n",
            "  Cảnh nên mua ở Siêu thị 2.\n",
            "  Nhật nên mua ở Siêu thị 2.\n",
            "  Hiếu nên mua ở Siêu thị 2.\n"
          ]
        }
      ]
    },
    {
      "cell_type": "code",
      "source": [
        "# Bài 2.2\n",
        "import numpy as np\n",
        "A = np.array([[2, 1],\n",
        "              [5, 3]])\n",
        "B = np.array([[4, -1],\n",
        "              [2, 1]])\n",
        "\n",
        "A_inv = np.linalg.inv(A)\n",
        "B_inv = np.linalg.inv(B)\n",
        "\n",
        "print(\"Ma trận A:\\n\", A)\n",
        "print(\"Ma trận B:\\n\", B)\n",
        "print(\"\\nNghịch đảo A⁻¹:\\n\", A_inv)\n",
        "print(\"Nghịch đảo B⁻¹:\\n\", B_inv)\n",
        "\n",
        "AB = np.dot(A, B)\n",
        "print(\"\\nTích AB:\\n\", AB)\n",
        "\n",
        "AB_inv = np.linalg.inv(AB)\n",
        "print(\"Nghịch đảo của AB (tính trực tiếp):\\n\", AB_inv)\n",
        "\n",
        "B_inv_dot_A_inv = np.dot(B_inv, A_inv)\n",
        "print(\"B**(-1) * A**(-1) (kiểm tra tính chất):\\n\", B_inv_dot_A_inv)\n",
        "\n",
        "print(\"\\nSai số tuyệt đối tối đa giữa (AB)**(-1) và B**(-1) A**(-1):\",\n",
        "      np.max(np.abs(AB_inv - B_inv_dot_A_inv)))\n"
      ],
      "metadata": {
        "colab": {
          "base_uri": "https://localhost:8080/"
        },
        "id": "Kr1TaQP9t5Xg",
        "outputId": "fa0daa17-4c55-4a9b-8449-77001337e471"
      },
      "execution_count": 4,
      "outputs": [
        {
          "output_type": "stream",
          "name": "stdout",
          "text": [
            "Ma trận A:\n",
            " [[2 1]\n",
            " [5 3]]\n",
            "Ma trận B:\n",
            " [[ 4 -1]\n",
            " [ 2  1]]\n",
            "\n",
            "Nghịch đảo A⁻¹:\n",
            " [[ 3. -1.]\n",
            " [-5.  2.]]\n",
            "Nghịch đảo B⁻¹:\n",
            " [[ 0.16666667  0.16666667]\n",
            " [-0.33333333  0.66666667]]\n",
            "\n",
            "Tích AB:\n",
            " [[10 -1]\n",
            " [26 -2]]\n",
            "Nghịch đảo của AB (tính trực tiếp):\n",
            " [[-0.33333333  0.16666667]\n",
            " [-4.33333333  1.66666667]]\n",
            "B**(-1) * A**(-1) (kiểm tra tính chất):\n",
            " [[-0.33333333  0.16666667]\n",
            " [-4.33333333  1.66666667]]\n",
            "\n",
            "Sai số tuyệt đối tối đa giữa (AB)**(-1) và B**(-1) A**(-1): 4.440892098500626e-15\n"
          ]
        }
      ]
    },
    {
      "cell_type": "code",
      "source": [
        "# Bài 2.3\n",
        "import numpy as np\n",
        "A = np.array([[0, 1], [1, 0]])\n",
        "print(\"Ma trận A:\\n\", A)\n",
        "\n",
        "k = 6\n",
        "temp = A.dot(A)\n",
        "print(\"A^2:\\n\", temp)\n",
        "\n",
        "for i in range(k - 2):\n",
        "    temp = temp.dot(A)\n",
        "    print(f\"A^{i+3}:\\n\", temp)\n",
        "    print('---')\n",
        "\n",
        "\n",
        "B = np.array([[0, -1], [-1, 0]])\n",
        "print(\"Ma trận B:\\n\", B)\n",
        "k = 5\n",
        "temp = B.dot(B)\n",
        "print(\"B^2:\\n\", temp)\n",
        "\n",
        "for i in range(k - 2):\n",
        "    temp = temp.dot(B)\n",
        "    print(f\"B^{i+3}:\\n\", temp)\n",
        "    print('---')\n",
        "\n",
        "\n",
        "C = np.array([[1, 0, 0],\n",
        "              [1, 0.5, 0],\n",
        "              [0, 0.5, 1]])\n",
        "\n",
        "print(\"Ma trận C:\\n\", C)\n",
        "\n",
        "k = 10\n",
        "temp = C.copy()\n",
        "for i in range(k - 1):\n",
        "    temp = temp.dot(C)\n",
        "print(f\"C^{k}:\\n\", temp)\n",
        "\n",
        "k = 1000\n",
        "for i in range(k - 1):\n",
        "    temp = temp.dot(C)\n",
        "\n",
        "print(f\"C^{1000 + 9} (nhân thêm 1000 lần nữa):\\n\", temp)\n",
        "\n",
        "\n"
      ],
      "metadata": {
        "colab": {
          "base_uri": "https://localhost:8080/"
        },
        "id": "f7yswhtSvB6w",
        "outputId": "d95c0fd6-346d-4dcc-8600-d151a79e62c3"
      },
      "execution_count": 7,
      "outputs": [
        {
          "output_type": "stream",
          "name": "stdout",
          "text": [
            "Ma trận A:\n",
            " [[0 1]\n",
            " [1 0]]\n",
            "A^2:\n",
            " [[1 0]\n",
            " [0 1]]\n",
            "A^3:\n",
            " [[0 1]\n",
            " [1 0]]\n",
            "---\n",
            "A^4:\n",
            " [[1 0]\n",
            " [0 1]]\n",
            "---\n",
            "A^5:\n",
            " [[0 1]\n",
            " [1 0]]\n",
            "---\n",
            "A^6:\n",
            " [[1 0]\n",
            " [0 1]]\n",
            "---\n",
            "Ma trận B:\n",
            " [[ 0 -1]\n",
            " [-1  0]]\n",
            "B^2:\n",
            " [[1 0]\n",
            " [0 1]]\n",
            "B^3:\n",
            " [[ 0 -1]\n",
            " [-1  0]]\n",
            "---\n",
            "B^4:\n",
            " [[1 0]\n",
            " [0 1]]\n",
            "---\n",
            "B^5:\n",
            " [[ 0 -1]\n",
            " [-1  0]]\n",
            "---\n",
            "Ma trận C:\n",
            " [[1.  0.  0. ]\n",
            " [1.  0.5 0. ]\n",
            " [0.  0.5 1. ]]\n",
            "C^10:\n",
            " [[1.00000000e+00 0.00000000e+00 0.00000000e+00]\n",
            " [1.99804688e+00 9.76562500e-04 0.00000000e+00]\n",
            " [8.00195312e+00 9.99023438e-01 1.00000000e+00]]\n",
            "C^1009 (nhân thêm 1000 lần nữa):\n",
            " [[1.0000000e+000 0.0000000e+000 0.0000000e+000]\n",
            " [2.0000000e+000 1.8227805e-304 0.0000000e+000]\n",
            " [1.0070000e+003 1.0000000e+000 1.0000000e+000]]\n"
          ]
        }
      ]
    },
    {
      "cell_type": "code",
      "source": [
        "# Bài 2.4\n",
        "import numpy as np\n",
        "M = np.array([[0.8, 0.3],\n",
        "              [0.2, 0.7]])\n",
        "\n",
        "M2 = M.dot(M)\n",
        "print(\"M^2:\")\n",
        "print(M2)\n",
        "\n",
        "M3 = M2.dot(M)\n",
        "print(\"\\nM^3:\")\n",
        "print(M3)\n",
        "MM = M.copy()\n",
        "for i in range(100):\n",
        "    MM = MM.dot(M)\n",
        "\n",
        "print(\"\\nM^100 (gần với trạng thái ổn định):\")\n",
        "print(MM)"
      ],
      "metadata": {
        "colab": {
          "base_uri": "https://localhost:8080/"
        },
        "id": "u2g68Zv9vpkO",
        "outputId": "a28800aa-7b86-4004-cda2-0d73969c48a4"
      },
      "execution_count": 8,
      "outputs": [
        {
          "output_type": "stream",
          "name": "stdout",
          "text": [
            "M^2:\n",
            "[[0.7  0.45]\n",
            " [0.3  0.55]]\n",
            "\n",
            "M^3:\n",
            "[[0.65  0.525]\n",
            " [0.35  0.475]]\n",
            "\n",
            "M^100 (gần với trạng thái ổn định):\n",
            "[[0.6 0.6]\n",
            " [0.4 0.4]]\n"
          ]
        }
      ]
    },
    {
      "cell_type": "code",
      "source": [
        "# Bài 3.2\n",
        "import numpy as np\n",
        "from scipy.linalg import lu\n",
        "\n",
        "M = np.array([[0.8, 0.3],\n",
        "              [0.2, 0.7]])\n",
        "P, L, U = lu(M)\n",
        "\n",
        "print(\"Ma trận P:\")\n",
        "print(P)\n",
        "\n",
        "print(\"\\nMa trận L (tam giác dưới):\")\n",
        "print(L)\n",
        "\n",
        "print(\"\\nMa trận U (tam giác trên):\")\n",
        "print(U)\n",
        "\n",
        "print(\"\\nKiểm tra: P @ L @ U = M ban đầu?\")\n",
        "print(np.allclose(P @ L @ U, M))"
      ],
      "metadata": {
        "colab": {
          "base_uri": "https://localhost:8080/"
        },
        "id": "u0zlYXnhxgQf",
        "outputId": "bff8343f-a475-48f8-eabe-2607c593a6f4"
      },
      "execution_count": 9,
      "outputs": [
        {
          "output_type": "stream",
          "name": "stdout",
          "text": [
            "Ma trận P:\n",
            "[[1. 0.]\n",
            " [0. 1.]]\n",
            "\n",
            "Ma trận L (tam giác dưới):\n",
            "[[1.   0.  ]\n",
            " [0.25 1.  ]]\n",
            "\n",
            "Ma trận U (tam giác trên):\n",
            "[[0.8   0.3  ]\n",
            " [0.    0.625]]\n",
            "\n",
            "Kiểm tra: P @ L @ U = M ban đầu?\n",
            "True\n"
          ]
        }
      ]
    },
    {
      "cell_type": "code",
      "source": [
        "# Bài 4\n",
        "char_to_code = {\n",
        "    'A': 6, 'B': 7, 'C': 10, 'D': 11, 'E': 13, 'F': 12, 'G': 15, 'H': 16, 'I': 17,\n",
        "    'K': 18, 'L': 19, 'M': 20, 'N': 21, 'O': 22, 'P': 25, 'Q': 26, 'R': 27,\n",
        "    'S': 28, 'T': 29, 'U': 30, 'V': 32, 'X': 33, 'Y': 34, ' ': 5, '-': 3, '.': 1\n",
        "}\n",
        "code_to_char = {v: k for k, v in char_to_code.items()}\n",
        "def encrypt_message(message, shift=5):\n",
        "    encrypted_codes = []\n",
        "    encrypted_chars = []\n",
        "    for ch in message:\n",
        "        ch = ch.upper()\n",
        "        if ch in char_to_code:\n",
        "            code = char_to_code[ch]\n",
        "            new_code = (code + shift) % 36\n",
        "            encrypted_codes.append(new_code)\n",
        "            encrypted_chars.append(code_to_char.get(new_code, '*'))\n",
        "        else:\n",
        "            encrypted_codes.append(-1)\n",
        "            encrypted_chars.append('?')\n",
        "    return encrypted_codes, ''.join(encrypted_chars)\n",
        "\n",
        "message = \"KHOA HO.C DU-LIEU\"\n",
        "codes, encrypted = encrypt_message(message)\n",
        "print(\"Chuỗi ban đầu:\", message)\n",
        "print(\"Mã số:\", codes)\n",
        "print(\"Chuỗi mã hóa:\", encrypted)"
      ],
      "metadata": {
        "id": "E3kuhcAHzLWy"
      },
      "execution_count": null,
      "outputs": []
    },
    {
      "cell_type": "code",
      "source": [
        "# Bài 5\n",
        "import numpy as np\n",
        "A = np.array([\n",
        "    [0, 1, 0, 1],\n",
        "    [0, 0, 1, 0],\n",
        "    [1, 0, 0, 1],\n",
        "    [1, 1, 0, 0]\n",
        "])\n",
        "\n",
        "# Giai đoạn 1 (A)\n",
        "print(\"Ma trận A (giai đoạn 1):\")\n",
        "print(A)\n",
        "\n",
        "# Giai đoạn 2 (A^2)\n",
        "temp = A.dot(A)\n",
        "print(\"\\nMa trận A^2 (giai đoạn 2):\")\n",
        "print(temp)\n",
        "\n",
        "# Giai đoạn 3 (A^3)\n",
        "temp2 = temp.dot(A)\n",
        "print(\"\\nMa trận A^3 (giai đoạn 3):\")\n",
        "print(temp2)\n",
        "\n",
        "# Tổng A + A^2 + A^3\n",
        "sumA = A + temp + temp2\n",
        "print(\"\\nTổng A + A^2 + A^3:\")\n",
        "print(sumA)\n"
      ],
      "metadata": {
        "id": "7Kl5RpmLzT8P"
      },
      "execution_count": null,
      "outputs": []
    },
    {
      "cell_type": "markdown",
      "source": [
        "**BÀI TẬP VỀ NHÀ**"
      ],
      "metadata": {
        "id": "hJKtc93N0ebY"
      }
    },
    {
      "cell_type": "code",
      "source": [
        "# Bài 1\n",
        "import numpy as np\n",
        "\n",
        "# a. Tự chọn một ma trận khả nghịch 3x3\n",
        "A = np.array([\n",
        "    [2, 1, 3],\n",
        "    [1, 2, 1],\n",
        "    [3, 1, 2]\n",
        "])\n",
        "det = np.linalg.det(A)\n",
        "print(\"Định thức của A:\", det)\n",
        "\n",
        "if det == 0:\n",
        "    print(\"Ma trận không khả nghịch.\")\n",
        "else:\n",
        "    print(\"Ma trận khả nghịch. Đây là ma trận nghịch đảo:\")\n",
        "    A_inv = np.linalg.inv(A)\n",
        "    print(np.round(A_inv, 2))\n",
        "\n",
        "# b.\n",
        "text = input(\"Nhập họ tên hoặc MSSV của bạn: \")\n",
        "\n",
        "# c.\n",
        "ascii_values = [ord(char) for char in text]\n",
        "while len(ascii_values) % 3 != 0:\n",
        "    ascii_values.append(0)\n",
        "ascii_matrix = np.array(ascii_values).reshape(-1, 3).T\n",
        "encoded_matrix = A.dot(ascii_matrix)\n",
        "print(\"\\nMa trận đã mã hóa:\")\n",
        "print(encoded_matrix)\n",
        "\n",
        "# d\n",
        "decoded_matrix = A_inv.dot(encoded_matrix)\n",
        "decoded_ascii = np.round(decoded_matrix).astype(int).T.flatten()\n",
        "decoded_chars = [chr(num) for num in decoded_ascii if num != 0]\n",
        "decoded_text = ''.join(decoded_chars)\n",
        "\n",
        "print(\"\\nChuỗi sau giải mã:\")\n",
        "print(decoded_text)\n"
      ],
      "metadata": {
        "colab": {
          "base_uri": "https://localhost:8080/"
        },
        "id": "X9dNRfec0iLu",
        "outputId": "e443013e-0cf5-42bd-9d96-5734202f5344"
      },
      "execution_count": 10,
      "outputs": [
        {
          "output_type": "stream",
          "name": "stdout",
          "text": [
            "Định thức của A: -8.000000000000002\n",
            "Ma trận khả nghịch. Đây là ma trận nghịch đảo:\n",
            "[[-0.38 -0.12  0.62]\n",
            " [-0.13  0.62 -0.12]\n",
            " [ 0.62 -0.12 -0.38]]\n",
            "Nhập họ tên hoặc MSSV của bạn: hòa\n",
            "\n",
            "Ma trận đã mã hóa:\n",
            "[[741]\n",
            " [685]\n",
            " [748]]\n",
            "\n",
            "Chuỗi sau giải mã:\n",
            "hòa\n"
          ]
        }
      ]
    },
    {
      "cell_type": "code",
      "source": [
        "# Bài 2\n",
        "def continued_fraction(numerator, denominator):\n",
        "    \"\"\"Tính toán và biểu diễn phân số liên phân số.\"\"\"\n",
        "    result = []\n",
        "    while denominator:\n",
        "        quotient = numerator // denominator\n",
        "        result.append(quotient)\n",
        "        numerator, denominator = denominator, numerator % denominator\n",
        "    return result\n",
        "\n",
        "def to_fraction(continued_frac):\n",
        "    \"\"\"Chuyển đổi phân số liên phân số về dạng phân số.\"\"\"\n",
        "    n = len(continued_frac)\n",
        "    if n == 0:\n",
        "        return (0, 1)\n",
        "\n",
        "    numerator = 1\n",
        "    denominator = continued_frac[-1]\n",
        "\n",
        "    for i in range(n - 2, -1, -1):\n",
        "        numerator, denominator = denominator, continued_frac[i] * denominator + numerator\n",
        "\n",
        "    return (denominator, numerator)\n",
        "num = 8\n",
        "den = 3\n",
        "\n",
        "cf = continued_fraction(num, den)\n",
        "print(\"Liên phân số:\", cf)\n",
        "frac = to_fraction(cf)\n",
        "print(\"Phân số tương ứng:\", frac[0], \"/\", frac[1])"
      ],
      "metadata": {
        "colab": {
          "base_uri": "https://localhost:8080/"
        },
        "id": "I--zmq5Z05xa",
        "outputId": "02f62d18-709b-4dd7-a771-277286c7c5fe"
      },
      "execution_count": 11,
      "outputs": [
        {
          "output_type": "stream",
          "name": "stdout",
          "text": [
            "Liên phân số: [2, 1, 2]\n",
            "Phân số tương ứng: 8 / 3\n"
          ]
        }
      ]
    }
  ]
}